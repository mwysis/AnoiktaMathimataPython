{
 "cells": [
  {
   "cell_type": "markdown",
   "metadata": {},
   "source": [
    "# 1. ΠΡΟΣΑΝΑΤΟΛΙΣΜΟΣ"
   ]
  },
  {
   "cell_type": "markdown",
   "metadata": {},
   "source": [
    "[1.1 Python](#1.1)\n",
    "\n",
    "[1.1 iPython Notebook (Jupyter Notebook)](#1.2)\n"
   ]
  },
  {
   "cell_type": "markdown",
   "metadata": {},
   "source": [
    "<a id='1.1'></a>\n",
    "## 1.1 Python"
   ]
  },
  {
   "cell_type": "markdown",
   "metadata": {},
   "source": [
    "Η Python είναι μια γλώσσα προγραμματισμού που χαρακτηρίζεται (κυρίως) ως γλώσσα:\n",
    "* διερμηνευμένη (https://en.wikipedia.org/wiki/Interpreted_language)\n",
    "* αλληλεπιδραστική (https://en.wikipedia.org/wiki/Interactivity#Computing_science)\n",
    "* αντικειμενοστρεφής (https://en.wikipedia.org/wiki/Object-oriented_programming)\n",
    "* υψηλού επιπέδου (https://en.wikipedia.org/wiki/High-level_programming_language"
   ]
  },
  {
   "cell_type": "markdown",
   "metadata": {},
   "source": [
    "* Η Python δημιουργήθηκε από τον __Guido van Rossum__ στην περίοδο 1985-90 (https://en.wikipedia.org/wiki/Guido_van_Rossum)\n",
    "* Ο πηγαίος κώδικας της Python είναι διαθέσιμος κάτων από την άδεια General Public License (GPL) (https://en.wikipedia.org/wiki/GNU_General_Public_License)"
   ]
  },
  {
   "cell_type": "markdown",
   "metadata": {},
   "source": [
    "Στα μαθήματα αυτά θα χρησιμοποιούμε:\n",
    "* την Python 2.7 (για το ιστορικό των εκδόσεων της Python: https://en.wikipedia.org/wiki/History_of_Python)"
   ]
  },
  {
   "cell_type": "markdown",
   "metadata": {},
   "source": [
    "<a id='1.2'></a>\n",
    "## 1.2 iPython Notebook (Jupyter Notebook)"
   ]
  },
  {
   "cell_type": "markdown",
   "metadata": {},
   "source": [
    "Στα μαθήματα αυτά θα δουλεύουμε: \n",
    "* στο περιβάλλον του __iPython Notebook (Jupyter Notebook)__ (https://ipython.org/ipython-doc/3/notebook/notebook.html, https://jupyter.org/).\n",
    "\n",
    "Για τους σκοπούς αυτούς, _συνίσταται_ η εγκατάσταση της διανομής της Python (2.7) από την __Anaconda__ (http://www.continuum.io/downloads)."
   ]
  },
  {
   "cell_type": "code",
   "execution_count": 1,
   "metadata": {
    "collapsed": false
   },
   "outputs": [
    {
     "data": {
      "text/html": [
       "\n",
       "        <iframe\n",
       "            width=\"500\"\n",
       "            height=\"300\"\n",
       "            src=\"http://www.continuum.io/downloads\"\n",
       "            frameborder=\"0\"\n",
       "            allowfullscreen\n",
       "        ></iframe>\n",
       "        "
      ],
      "text/plain": [
       "<IPython.lib.display.IFrame at 0x103a36110>"
      ]
     },
     "execution_count": 1,
     "metadata": {},
     "output_type": "execute_result"
    }
   ],
   "source": [
    "from IPython.display import IFrame\n",
    "IFrame('http://www.continuum.io/downloads', width=500, height=300)"
   ]
  },
  {
   "cell_type": "code",
   "execution_count": 2,
   "metadata": {
    "collapsed": false,
    "scrolled": false
   },
   "outputs": [
    {
     "data": {
      "text/html": [
       "\n",
       "        <iframe\n",
       "            width=\"700\"\n",
       "            height=\"100\"\n",
       "            src=\"https://ipython.org/ipython-doc/3/notebook/notebook.html\"\n",
       "            frameborder=\"0\"\n",
       "            allowfullscreen\n",
       "        ></iframe>\n",
       "        "
      ],
      "text/plain": [
       "<IPython.lib.display.IFrame at 0x103a3c090>"
      ]
     },
     "execution_count": 2,
     "metadata": {},
     "output_type": "execute_result"
    }
   ],
   "source": [
    "IFrame('https://ipython.org/ipython-doc/3/notebook/notebook.html', width=700, height=100)"
   ]
  },
  {
   "cell_type": "code",
   "execution_count": 3,
   "metadata": {
    "collapsed": false
   },
   "outputs": [
    {
     "data": {
      "text/html": [
       "\n",
       "        <iframe\n",
       "            width=\"700\"\n",
       "            height=\"100\"\n",
       "            src=\"https://jupyter.org/\"\n",
       "            frameborder=\"0\"\n",
       "            allowfullscreen\n",
       "        ></iframe>\n",
       "        "
      ],
      "text/plain": [
       "<IPython.lib.display.IFrame at 0x1045b7550>"
      ]
     },
     "execution_count": 3,
     "metadata": {},
     "output_type": "execute_result"
    }
   ],
   "source": [
    "IFrame('https://jupyter.org/', width=700, height=100)"
   ]
  },
  {
   "cell_type": "markdown",
   "metadata": {
    "collapsed": true
   },
   "source": [
    "Το Notebook χρησιμοποιεί την γλώσσα γραφής __Markdown__ (πληροφορίες για τη σύνταξη της οποίας δίνονται εδώ: http://daringfireball.net/projects/markdown/syntax)"
   ]
  },
  {
   "cell_type": "code",
   "execution_count": 6,
   "metadata": {
    "collapsed": false,
    "scrolled": false
   },
   "outputs": [
    {
     "data": {
      "text/html": [
       "\n",
       "        <iframe\n",
       "            width=\"700\"\n",
       "            height=\"500\"\n",
       "            src=\"http://daringfireball.net/projects/markdown/syntax\"\n",
       "            frameborder=\"0\"\n",
       "            allowfullscreen\n",
       "        ></iframe>\n",
       "        "
      ],
      "text/plain": [
       "<IPython.lib.display.IFrame at 0x1045b7250>"
      ]
     },
     "execution_count": 6,
     "metadata": {},
     "output_type": "execute_result"
    }
   ],
   "source": [
    "IFrame('http://daringfireball.net/projects/markdown/syntax', width=700, height=500)"
   ]
  },
  {
   "cell_type": "markdown",
   "metadata": {},
   "source": [
    "Τα **ελάχιστα** που πρέπει να γνωρίζει κανείς για το πώς λειτουργεί το notebook είναι τα εξής:\n",
    "1. Πώς _ανοίγει/δημιουργείται_ ένα κελί (cell)\n",
    "2. Τα δυο _κύρια είδη_ κελιών: **Markdown** και **Code** \n",
    "3. Πώς _εκτελείται/τρέχει_ ένα κελί\n",
    "4. Πώς και σε ποιες μορφές _σώζεται_ ένα notebook που γράφουμε (ή τροποποιούμε)"
   ]
  },
  {
   "cell_type": "markdown",
   "metadata": {},
   "source": [
    "Για το άνοιγμα/δημιουργία νέου κελιού:\n",
    "* **Insert > Insert Cell Above** ή\n",
    "* **Insert > Insert Cell Below**"
   ]
  },
  {
   "cell_type": "markdown",
   "metadata": {},
   "source": [
    "Ένα κελί μπορεί να είναι:\n",
    "* Κελί εγγραφής σχολίων (ή οδηγιών ή πληροφοριών κλπ.) που επιλέγεται από το μενού ως **Markdown**\n",
    "* Ή κελί εγγραφής κώδικα (εντολών) που επιλέγεται από το μενού ως **Code**\n",
    "\n",
    "Αφού επιλέξουμε τον τύπο του κελιού, \n",
    "* _κλικάρουμε τον κέρσορα πάνω του για να μπορούμε να γράψουμε_"
   ]
  },
  {
   "cell_type": "markdown",
   "metadata": {},
   "source": [
    "Για να εκτελέσουμε/τρέξουμε ένα κελί (είτε markdown ή code):\n",
    "* πατάμε **Cntr + Enter** (ταυτόχρονα)\n",
    "* ή κλικάρουμε το **\"|>|\"** στο μενού\n",
    "* ή πάμε **Cell > Run**\n",
    "\n",
    "Από το μενού στο Cell βρίσκουμε διάφορες επιλογές για να τρέξουμε όλο το notebook ή μέρος του.\n",
    "\n",
    "Αν θέλουμε να διορθώσουμε ή να αλλάξουμε ένα γραμμένο κελί (είτε markdown ή code) **κλικάρουμε δυο φορές πάνω του τον κέρσορα**\n",
    "\n",
    "Αν θέλουμε να σβήσουμε/αφαιρέσουμε ένα κελί, πρέπει να βρίσκεται ο κέρσορας στο κελί αυτό και μετά να κλικάρουμε το \"ψαλίδι\" στο μενού"
   ]
  },
  {
   "cell_type": "markdown",
   "metadata": {},
   "source": [
    "Για να **σώσουμε** το notebook που δουλεύουμε ως **ipython notebook** (κατάληξη **.ipynb**):\n",
    "* πάμε **File > Save and Checkpoint**\n",
    "\n",
    "Για να **σώσουμε** το notebook που δουλεύουμε ως **αρχείο HTML** (κατάληξη **.html**):\n",
    "* πάμε **File > Download as > HTML (.html)**\n",
    "\n",
    "Για να **σώσουμε** το notebook που δουλεύουμε ως **αρχείο Python** (κατάληξη **.py**):\n",
    "* πάμε **File > Download as > Python (.py)**"
   ]
  },
  {
   "cell_type": "code",
   "execution_count": null,
   "metadata": {
    "collapsed": true
   },
   "outputs": [],
   "source": []
  }
 ],
 "metadata": {
  "kernelspec": {
   "display_name": "Python 2",
   "language": "python",
   "name": "python2"
  },
  "language_info": {
   "codemirror_mode": {
    "name": "ipython",
    "version": 2
   },
   "file_extension": ".py",
   "mimetype": "text/x-python",
   "name": "python",
   "nbconvert_exporter": "python",
   "pygments_lexer": "ipython2",
   "version": "2.7.10"
  }
 },
 "nbformat": 4,
 "nbformat_minor": 0
}
